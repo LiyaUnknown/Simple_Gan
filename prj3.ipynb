{
  "nbformat": 4,
  "nbformat_minor": 0,
  "metadata": {
    "colab": {
      "provenance": [],
      "authorship_tag": "ABX9TyOJNdu7w8Nkto3jiDZikGXC",
      "include_colab_link": true
    },
    "kernelspec": {
      "name": "python3",
      "display_name": "Python 3"
    },
    "language_info": {
      "name": "python"
    }
  },
  "cells": [
    {
      "cell_type": "markdown",
      "metadata": {
        "id": "view-in-github",
        "colab_type": "text"
      },
      "source": [
        "<a href=\"https://colab.research.google.com/github/LiyaUnknown/Simple_Gan/blob/main/prj3.ipynb\" target=\"_parent\"><img src=\"https://colab.research.google.com/assets/colab-badge.svg\" alt=\"Open In Colab\"/></a>"
      ]
    },
    {
      "cell_type": "code",
      "source": [
        "# tensorflow - Deep Convolutional Generative Adversarial Network"
      ],
      "metadata": {
        "id": "18L7SkmUX7A9"
      },
      "execution_count": null,
      "outputs": []
    },
    {
      "cell_type": "code",
      "source": [
        "import numpy as np\n",
        "import tensorflow as tf\n",
        "import PIL\n",
        "import os\n",
        "import matplotlib.pyplot as plt\n",
        "import time \n",
        "import glob\n",
        "from IPython import display"
      ],
      "metadata": {
        "id": "X5E9PBBBYNd-"
      },
      "execution_count": null,
      "outputs": []
    },
    {
      "cell_type": "code",
      "source": [
        "(tr_ , trl_ ) , (_ , _) = tf.keras.datasets.mnist.load_data()"
      ],
      "metadata": {
        "id": "ZHLLlfKpY0Ft",
        "colab": {
          "base_uri": "https://localhost:8080/"
        },
        "outputId": "0ea21c19-9970-4087-e9e1-e325c47bc3be"
      },
      "execution_count": null,
      "outputs": [
        {
          "output_type": "stream",
          "name": "stdout",
          "text": [
            "Downloading data from https://storage.googleapis.com/tensorflow/tf-keras-datasets/mnist.npz\n",
            "11490434/11490434 [==============================] - 2s 0us/step\n"
          ]
        }
      ]
    },
    {
      "cell_type": "code",
      "source": [
        "images = tr_.reshape((tr_.shape[0] , 28 , 28 , 1)).astype('float32')\n",
        "images = (tr_ - 127.5) / 127.5 \n",
        "img_dt = tf.data.Dataset.from_tensor_slices(images).shuffle(60000).batch(256)"
      ],
      "metadata": {
        "id": "gGTWYNRRex56"
      },
      "execution_count": null,
      "outputs": []
    },
    {
      "cell_type": "code",
      "source": [
        "images[0].shape"
      ],
      "metadata": {
        "colab": {
          "base_uri": "https://localhost:8080/"
        },
        "id": "9p1DCCRhjAF3",
        "outputId": "a5cc300f-d987-4404-836a-e1a170bf6de6"
      },
      "execution_count": null,
      "outputs": [
        {
          "output_type": "execute_result",
          "data": {
            "text/plain": [
              "(28, 28)"
            ]
          },
          "metadata": {},
          "execution_count": 5
        }
      ]
    },
    {
      "cell_type": "code",
      "source": [
        "img_1 = images[400].reshape((1 , 28 , 28 , 1))\n",
        "\n",
        "model_1 = tf.keras.Sequential()\n",
        "conv_1 = model_1.add(tf.keras.layers.UpSampling2D((4,4)))\n",
        "\n",
        "pre = model_1.predict(img_1)\n",
        "\n",
        "model_2 = tf.keras.Sequential()\n",
        "conv_2 = model_2.add(tf.keras.layers.Conv2DTranspose(1, (2, 2), strides=(2, 2) , input_shape = (28,28,1) ))\n",
        "\n",
        "plt.subplot(1,2,1)\n",
        "plt.imshow(pre.reshape((4 * 28,4 * 28 , 1)) , cmap = 'gray')\n",
        "plt.title('UpSampling')\n",
        "\n",
        "plt.subplot(1,2,2)\n",
        "pre = model_2.predict(images[0].reshape((1 , 28 , 28 , 1)))\n",
        "plt.imshow(pre.reshape((2 * 28,2 * 28 , 1)) , cmap = 'gray')\n",
        "plt.title('Conv2Transpose')\n",
        "\n",
        "plt.show()"
      ],
      "metadata": {
        "id": "8QNUY4SCjDRH",
        "colab": {
          "base_uri": "https://localhost:8080/",
          "height": 343
        },
        "outputId": "9b6f2c34-935b-4378-ae6c-b49ef2259af3"
      },
      "execution_count": null,
      "outputs": [
        {
          "output_type": "stream",
          "name": "stdout",
          "text": [
            "1/1 [==============================] - 0s 266ms/step\n",
            "1/1 [==============================] - 10s 10s/step\n"
          ]
        },
        {
          "output_type": "display_data",
          "data": {
            "text/plain": [
              "<Figure size 640x480 with 2 Axes>"
            ],
            "image/png": "[encoded data removed]"
          },
          "metadata": {}
        }
      ]
    },
    {
      "cell_type": "code",
      "source": [
        "from keras.layers.attention.multi_head_attention import activation\n",
        "from tensorflow.keras.layers import Dense , Conv2DTranspose , LeakyReLU , BatchNormalization , Reshape\n",
        "\n",
        "def mk_gen() : \n",
        "\n",
        "    model = tf.keras.Sequential()\n",
        "    model.add(Dense(7*7*256 , use_bias = False , input_shape = (100,)))\n",
        "    model.add(BatchNormalization())\n",
        "    model.add(LeakyReLU())\n",
        "    model.add(Reshape((7 , 7 , 256)))\n",
        "    assert model.output_shape == (None , 7 , 7 , 256)\n",
        "\n",
        "    model.add(Conv2DTranspose(128 , (5,5) , strides = (1,1) , padding = 'same' , use_bias = False))\n",
        "    assert model.output_shape == (None , 7 , 7 , 128)\n",
        "    model.add(BatchNormalization())\n",
        "    model.add(LeakyReLU())\n",
        "\n",
        "    model.add(Conv2DTranspose(64 , (5,5) , strides = (2,2) , padding = 'same' , use_bias = False))\n",
        "    assert model.output_shape == (None , 14 , 14 , 64)\n",
        "    model.add(BatchNormalization())\n",
        "    model.add(LeakyReLU())\n",
        "\n",
        "    model.add(Conv2DTranspose(1 , (5,5) , strides = (2,2) , padding = 'same' , use_bias = False , activation = 'tanh'))\n",
        "    assert model.output_shape == (None , 28 , 28 , 1)\n",
        "\n",
        "\n",
        "    return model\n",
        "\n"
      ],
      "metadata": {
        "id": "xmuECIS_SATe"
      },
      "execution_count": null,
      "outputs": []
    },
    {
      "cell_type": "code",
      "source": [
        "fake_dt = tf.random.normal([1,100])\n",
        "generator = mk_gen()\n",
        "imgo = generator(fake_dt , training = False)\n",
        "\n",
        "plt.imshow(imgo[0 , : , :  , 0] , cmap = 'gray')\n",
        "plt.title('Generator res')\n",
        "\n",
        "plt.show()"
      ],
      "metadata": {
        "colab": {
          "base_uri": "https://localhost:8080/",
          "height": 452
        },
        "id": "I8JqDHCjTWe4",
        "outputId": "fa175e93-ab53-4d20-ae95-8c6e7c7b5dcf"
      },
      "execution_count": null,
      "outputs": [
        {
          "output_type": "display_data",
          "data": {
            "text/plain": [
              "<Figure size 640x480 with 1 Axes>"
            ],
            "image/png": "[encoded data removed]"
          },
          "metadata": {}
        }
      ]
    },
    {
      "cell_type": "code",
      "source": [
        "\n",
        "from keras.layers.reshaping.flatten import Flatten\n",
        "from keras.layers import Dropout\n",
        "from tensorflow.keras.layers import Dense , Conv2DTranspose , LeakyReLU , BatchNormalization , Reshape , Conv2D\n",
        "\n",
        "def mk_dis() :\n",
        "\n",
        "    model = tf.keras.Sequential([\n",
        "        Conv2D(64 , (5,5) , (2 , 2) , input_shape = [28 , 28 , 1] , padding = 'same') ,\n",
        "        LeakyReLU() , \n",
        "        Dropout(0.3) , \n",
        "\n",
        "        Conv2D(128 , (5,5) , (2 , 2) , padding = 'same') ,\n",
        "        LeakyReLU() , \n",
        "        Dropout(0.3) , \n",
        "\n",
        "        Flatten() , \n",
        "        Dense(1) \n",
        "        \n",
        "    ])\n",
        "\n",
        "    return model\n"
      ],
      "metadata": {
        "id": "SQEsH4a5W3Uc"
      },
      "execution_count": null,
      "outputs": []
    },
    {
      "cell_type": "code",
      "source": [
        "discriminator = mk_dis()\n",
        "\n",
        "\n",
        "for i in img_dt : \n",
        "    res = discriminator(i , training = True)\n",
        "    print(total_losses(res , fake_dt))\n",
        "\n",
        "res = discriminator(imgo)\n",
        "print(res)"
      ],
      "metadata": {
        "id": "5LQDV0lCb9Uz"
      },
      "execution_count": null,
      "outputs": []
    },
    {
      "cell_type": "code",
      "source": [
        "cros_entropy = tf.keras.losses.BinaryCrossentropy(from_logits=True)\n",
        "\n",
        "def generator_loss(n) :\n",
        "    return cros_entropy(tf.ones_like(n) , n)\n",
        "\n",
        "def total_losses(x , n) : \n",
        "    return cros_entropy(tf.ones_like(x) , x) + cros_entropy(tf.zeros_like(n) , n)\n"
      ],
      "metadata": {
        "id": "uZ0aXDGCdF9G"
      },
      "execution_count": null,
      "outputs": []
    },
    {
      "cell_type": "code",
      "source": [
        "gen_op = tf.keras.optimizers.Adam(0.0001)\n",
        "dis_op = tf.keras.optimizers.Adam(0.0001)"
      ],
      "metadata": {
        "id": "gtdbQ_y0xilw"
      },
      "execution_count": null,
      "outputs": []
    },
    {
      "cell_type": "code",
      "source": [
        "\n",
        "\n",
        "chkp_d = '/content/chkp_dir'\n",
        "prefix = os.path.join(chkp_d , 'points')\n",
        "check_p = tf.train.Checkpoint(generator_optimizer=gen_op,\n",
        "                                 discriminator_optimizer=dis_op,\n",
        "                                 generator=generator,\n",
        "                                 discriminator=discriminator)"
      ],
      "metadata": {
        "id": "qqlI7gR0FLUl"
      },
      "execution_count": null,
      "outputs": []
    },
    {
      "cell_type": "code",
      "source": [
        "generator(tf.random.normal([256 , 100])).shape"
      ],
      "metadata": {
        "colab": {
          "base_uri": "https://localhost:8080/"
        },
        "id": "oyDnr17FqOwn",
        "outputId": "258bc8d8-73a3-43d6-f38f-b94b2ca47a6e"
      },
      "execution_count": null,
      "outputs": [
        {
          "output_type": "execute_result",
          "data": {
            "text/plain": [
              "TensorShape([256, 28, 28, 1])"
            ]
          },
          "metadata": {},
          "execution_count": 14
        }
      ]
    },
    {
      "cell_type": "code",
      "source": [
        "tf.function\n",
        "def train_step(imges) : \n",
        "    print(imges.shape)\n",
        "    noise = tf.random.normal([256 , 100]) \n",
        "    with tf.GradientTape() as g , tf.GradientTape() as d : \n",
        "          \n",
        "          gen_lo = generator_loss(discriminator(generator(noise , training = True) , training = True ))\n",
        "          dis_lo = total_losses(discriminator(imges , training = True) , discriminator(generator(noise , training = True) , training = True ))\n",
        "\n",
        "    gen_gr = g.gradient(gen_lo , generator.trainable_variables)\n",
        "    dis_gr = d.gradient(dis_lo , discriminator.trainable_variables)\n",
        "\n",
        "    gen_op.apply_gradients(zip(gen_gr , generator.trainable_variables))\n",
        "    dis_op.apply_gradients(zip(dis_gr , discriminator.trainable_variables))\n"
      ],
      "metadata": {
        "id": "5oP7omAAdJxo"
      },
      "execution_count": null,
      "outputs": []
    },
    {
      "cell_type": "code",
      "source": [
        "def save_gen_img(model , epoch , random_noise) :\n",
        "\n",
        "    img_ = model(random_noise , training = False)\n",
        "\n",
        "    plt.figure(figsize = (4 , 4))\n",
        "\n",
        "    for i in range(random_noise.shape[0]) :\n",
        "        plt.subplot(4 , 4 , i + 1)\n",
        "\n",
        "        plt.imshow(img_[i , : , : , 0] * 127.5 + 127.5 , cmap = 'gray')\n",
        "        plt.axis('off')\n",
        "\n",
        "    plt.savefig(f'generation_image_epoch: {epoch}')\n",
        "    plt.show()"
      ],
      "metadata": {
        "id": "33LPnR4jp45M"
      },
      "execution_count": null,
      "outputs": []
    },
    {
      "cell_type": "code",
      "source": [
        "epochs = 50\n",
        "number_of_img = 16\n",
        "random_noises_imgs = tf.random.normal([number_of_img , 100])\n",
        "\n",
        "def fit(data_st , epochs ) :\n",
        "    for epoch in range(1 , epochs) : \n",
        "        for im in data_st : \n",
        "            train_step(im)\n",
        "\n",
        "        display.clear_output(wait=True)\n",
        "        save_gen_img(generator , epoch+1 , random_noises_imgs)\n",
        "        if (epoch + 1) % 15 == 0 : \n",
        "            check_p.save(prefix)\n",
        "        print(f'This model is in epoch {epoch} as {epochs}')\n",
        "    display.clear_output(wait=True)\n",
        "    save_gen_img(generator , epoch+1 , random_noises_imgs)\n",
        "fit(img_dt , epochs)"
      ],
      "metadata": {
        "id": "Sh_vplXBTv9s"
      },
      "execution_count": null,
      "outputs": []
    },
    {
      "cell_type": "code",
      "source": [
        "fit(img_dt , epochs)"
      ],
      "metadata": {
        "id": "QqdGNlFCZMfO"
      },
      "execution_count": null,
      "outputs": []
    }
  ]
}